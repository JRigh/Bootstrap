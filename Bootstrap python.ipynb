{
 "cells": [
  {
   "cell_type": "markdown",
   "id": "ae6e6d03",
   "metadata": {},
   "source": [
    "## Nonparametric Bootstrap: definition\n",
    "\n",
    "***Nonparametric Bootstrap*** : A statistical method that involves repeatedly resampling the observed data with replacement to generate a large number of bootstrap samples. These samples are used to estimate the sampling distribution of a statistic or to make inferences about population parameters without assuming a specific parametric distribution for the data.\n",
    "\n",
    "1. Nonparametric bootstrap is advantageous for small sample sizes, where traditional parametric methods can be unreliable.\n",
    "2. It provides a robust approach when data doesn't conform to specific distributional assumptions.\n",
    "3. It is useful for estimating parameters, constructing confidence intervals, and conducting hypothesis tests without relying on distribution assumptions.\n",
    "4. It excels in scenarios involving complex data or when modeling assumptions are uncertain.\n",
    "\n",
    "\n",
    "## Nonparametric bootstrap: introduction\n",
    "\n",
    "So suppose that we observe a sample $x_{1},..., x_{n}$ which are realizations of i.i.d. r.v. $X_{1},..., X_{n}$, with distribution $L_{x}$ and with CDF $F_{x}$  unknown.. The empirical Cummulative Distribution Function (eCDF) is defined as\n",
    "\n",
    "$$\n",
    "F_{n}(x) = \\frac{1}{n} \\sum_{i=1}^{n} 1_{x_{i} \\leq x}  \n",
    "$$\n",
    "\n",
    "and is an estimator of the true CDF $F_{x}$. Moreover, we have that\n",
    "\n",
    "$$\n",
    "\\begin{align*} \n",
    "E[F_{n}(x)] =  F_{x}\\\\\n",
    "\\end{align*} \n",
    "$$\n",
    "\n",
    "and  \n",
    "\n",
    "$$\n",
    "\\begin{align*} \n",
    "var \\big( F_{n}(x) \\big) = \\frac{1}{n} \\bigg( \\big( F_{x}\n",
    "\\big) \\big( 1 - F_{x}  \\big)  \\bigg) \\\\\n",
    "\\end{align*}\n",
    "$$\n",
    "\n",
    "\n",
    "Besides, from the Law of Large Numbers (LLN), we have that\n",
    "\n",
    "$$\n",
    " F_{n}(x) \\xrightarrow{\\ a.s. \\ } F_{x} \\ \\ \\ \\ \\ \\ \\ \\ \\ \\ \\text{as $n$ goes to $\\infty$.}\n",
    "$$\n",
    "\n",
    "And from the Central Limit Theorem (CLT), we have that\n",
    "\n",
    "$$\n",
    " F_{n}(x) \\xrightarrow{\\ L \\ } N\\bigg(F_{x}, \\frac{1}{n}F_{x}\\big( 1 - F_{x}  \\big)  \\bigg)  \\ \\ \\ \\ \\ \\ \\ \\ \\ \\ \\text{as $n$ goes to $\\infty$.}\n",
    "$$\n",
    "\n",
    "\n",
    "The underlying idea of nonparametric bootstrap is that bootstrap samples can be generated from the  $F_{n}(x)$ when $F_{x}$ is unknow since $ F_{n}(x)$ is a consistent estimator for $F_{x}$ .\n",
    "\n",
    "\n",
    "## General algorithm\n",
    "\n",
    "1. $B$ independent samples $x_{b1}^{*},..., x_{bn}^{*}$, $b = 1,..., B$ are drawn with replacement from the data $x_{1},..., x_{n}$. This is important, we resample with replacement from the data to obtain bootstrap samples.\n",
    "\n",
    "\n",
    "2. On each of the $B$ independent samples,  an estimate $\\hat{\\theta}_{b}^{*}$ is computed (the bootstrap replicates of $\\hat{\\theta}$).\n",
    "\n",
    "\n",
    "3. The expectation of $\\hat{\\theta}$ (given $ F_{n}(x)$ ) is estimated as follows:\n",
    "\n",
    "$$\n",
    "E_{boot} \\big[ \\hat{\\theta}  \\big] = \\frac{1}{B} \\sum_{b=1}^{B} \\hat{\\theta}_{b}^{*}\n",
    "$$\n",
    "\n",
    "4. The variance of $\\hat{\\theta}$ (given $ F_{n}(x)$ ) is estimated as follows:\n",
    "\n",
    "$$\n",
    "var_{boot} \\big( \\hat{\\theta}  \\big) = \\frac{1}{B-1} \\sum_{b=1}^{B} \\bigg( \\hat{\\theta}_{b}^{*} - \\frac{1}{B} \\sum_{b=1}^{B} \\hat{\\theta}_{b}^{*}\n",
    " \\bigg)^{2}\n",
    "$$\n",
    "\n",
    "\n",
    "We observe a sample $x_{1}, ..., x_{n} = 8.26, 6.33, 10.4, 5.27, 5.35, 5.61, 6.12, 6.19, 5.2, 7.01, 8.74, 7.78, 7.02, 6, 6.5, 5.8, 5.12, 7.41, 6.52, 6.21, 12.28, 5.6, 5.38, 6.6, 8.74$. \n",
    "\n",
    "\n",
    "Estimate the bias and the standard error of $\\hat{\\theta}$, the estimate of the coefficient of variation. The coefficient of variation cv is equal to\n",
    "\n",
    "$$\n",
    "cv = sd(x) / mean(x)\n",
    "$$\n",
    "\n",
    "\n"
   ]
  },
  {
   "cell_type": "code",
   "execution_count": 7,
   "id": "ac4035e1",
   "metadata": {},
   "outputs": [
    {
     "data": {
      "text/plain": [
       "0.04395079547052894"
      ]
     },
     "execution_count": 7,
     "metadata": {},
     "output_type": "execute_result"
    }
   ],
   "source": [
    "import numpy as np\n",
    "import pandas as pd\n",
    "\n",
    "# dataset\n",
    "x = np.array([8.26, 6.33, 10.4, 5.27, 5.35, 5.61, 6.12, 6.19, 5.2, 7.01, 8.74, 7.78,\n",
    "              7.02, 6, 6.5, 5.8, 5.12, 7.41, 6.52, 6.21, 12.28, 5.6, 5.38, 6.6, 8.74])\n",
    "\n",
    "# coefficient of variation (CV)\n",
    "cv = np.std(x) / np.mean(x)\n",
    "cv # 0.24737024423748963\n",
    "\n",
    "# bootstrap\n",
    "num_bootstraps = 10000\n",
    "bootstrap_cvs = np.zeros(num_bootstraps)\n",
    "np.random.seed(2023)\n",
    "for i in range(num_bootstraps):\n",
    "    resample = np.random.choice(x, size=len(x), replace=True)\n",
    "    bootstrap_cvs[i] = np.std(resample) / np.mean(resample)\n",
    "\n",
    "# bias and standard error of the CV estimator\n",
    "bias = np.mean(bootstrap_cvs) - cv\n",
    "bias #-0.011917596931186353\n",
    "standard_error = np.std(bootstrap_cvs)\n",
    "standard_error # 0.04395079547052894"
   ]
  },
  {
   "cell_type": "markdown",
   "id": "147a4cda",
   "metadata": {},
   "source": [
    "## Plot the bootstrap distribution"
   ]
  },
  {
   "cell_type": "code",
   "execution_count": 10,
   "id": "b34e893f",
   "metadata": {},
   "outputs": [
    {
     "data": {
      "text/plain": [
       "Text(0.5, 1.0, 'Bootstrap Distribution of the Coefficient of Variation (cv)')"
      ]
     },
     "execution_count": 10,
     "metadata": {},
     "output_type": "execute_result"
    },
    {
     "data": {
      "image/png": "[encoded data removed]",
      "text/plain": [
       "<Figure size 640x480 with 1 Axes>"
      ]
     },
     "metadata": {},
     "output_type": "display_data"
    }
   ],
   "source": [
    "import matplotlib.pyplot as plt\n",
    "\n",
    "bootstrap_df = pd.DataFrame({'CVs': bootstrap_cvs})\n",
    "\n",
    "# plot a histogram of bootstrap CVs\n",
    "plt.hist(bootstrap_df['CVs'], bins=30, color='darkred', edgecolor='black')\n",
    "plt.axvline(cv, color='black', linestyle='dashed', linewidth=2)\n",
    "plt.title('Bootstrap Distribution of the Coefficient of Variation (cv)')\n",
    "plt.xlabel('CV')\n",
    "plt.ylabel('Frequency')\n",
    "plt.tick_params(axis='both', labelsize=8)\n",
    "plt.title('Bootstrap Distribution of the Coefficient of Variation (cv)', fontsize=10, fontstyle='italic', color='darkred')"
   ]
  }
 ],
 "metadata": {
  "kernelspec": {
   "display_name": "Python 3 (ipykernel)",
   "language": "python",
   "name": "python3"
  },
  "language_info": {
   "codemirror_mode": {
    "name": "ipython",
    "version": 3
   },
   "file_extension": ".py",
   "mimetype": "text/x-python",
   "name": "python",
   "nbconvert_exporter": "python",
   "pygments_lexer": "ipython3",
   "version": "3.10.9"
  }
 },
 "nbformat": 4,
 "nbformat_minor": 5
}
